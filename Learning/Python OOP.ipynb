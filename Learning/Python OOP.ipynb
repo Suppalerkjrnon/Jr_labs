{
 "cells": [
  {
   "cell_type": "markdown",
   "metadata": {},
   "source": [
    "# Import"
   ]
  },
  {
   "cell_type": "code",
   "execution_count": 1,
   "metadata": {},
   "outputs": [],
   "source": [
    "import pandas as pd\n",
    "import numpy as np"
   ]
  },
  {
   "cell_type": "markdown",
   "metadata": {},
   "source": [
    "## Object creation"
   ]
  },
  {
   "cell_type": "code",
   "execution_count": 2,
   "metadata": {},
   "outputs": [],
   "source": [
    "# Create a class called Dog, pass is a keyword that does nothing but is required for the class to be valid\n",
    "class Dog:\n",
    "    pass"
   ]
  },
  {
   "cell_type": "code",
   "execution_count": 3,
   "metadata": {},
   "outputs": [],
   "source": [
    "# Then create a object of the class Dog\n",
    "\n",
    "obj = Dog()"
   ]
  },
  {
   "cell_type": "code",
   "execution_count": 10,
   "metadata": {},
   "outputs": [],
   "source": [
    "class Dog:\n",
    "    def __init__(self, specie, name):\n",
    "        self.specie = specie\n",
    "        self.name = name\n",
    "        \n",
    "    def display(self):\n",
    "        return f\"{self.specie} {self.name}\"\n",
    "    \n",
    "dog1 = Dog(\"Labrador\", \"Sammy\")\n",
    "        "
   ]
  },
  {
   "cell_type": "code",
   "execution_count": 11,
   "metadata": {},
   "outputs": [
    {
     "data": {
      "text/plain": [
       "'Labrador Sammy'"
      ]
     },
     "execution_count": 11,
     "metadata": {},
     "output_type": "execute_result"
    }
   ],
   "source": [
    "# Access the attributes of the object, using the dot operator\n",
    "dog1.display()"
   ]
  },
  {
   "cell_type": "code",
   "execution_count": 12,
   "metadata": {},
   "outputs": [
    {
     "data": {
      "text/plain": [
       "'Labrador'"
      ]
     },
     "execution_count": 12,
     "metadata": {},
     "output_type": "execute_result"
    }
   ],
   "source": [
    "#Access specie attribute\n",
    "dog1.specie"
   ]
  },
  {
   "cell_type": "code",
   "execution_count": 14,
   "metadata": {},
   "outputs": [
    {
     "data": {
      "text/plain": [
       "'Sammy'"
      ]
     },
     "execution_count": 14,
     "metadata": {},
     "output_type": "execute_result"
    }
   ],
   "source": [
    "#Access name attribute\n",
    "dog1.name"
   ]
  },
  {
   "cell_type": "markdown",
   "metadata": {},
   "source": [
    "## Creating a class and object with class and instance attributes"
   ]
  },
  {
   "cell_type": "code",
   "execution_count": 5,
   "metadata": {},
   "outputs": [
    {
     "name": "stdout",
     "output_type": "stream",
     "text": [
      "First Employee's name is Junior and he is 29 years old and he earns 18000 per month\n",
      "Second Employee's name is Foam and she is 26 years old and she earns 20000 per month\n"
     ]
    }
   ],
   "source": [
    "class Employee:\n",
    "    \n",
    "    #class attribute\n",
    "    def __init__(self, name, age, salary):\n",
    "        self.name = name\n",
    "        self.age = age\n",
    "        self.salary = salary\n",
    "# Object instantiation\n",
    "junior = Employee(\"Junior\", 29, 18000)\n",
    "foam = Employee(\"Foam\", 26, 20000)\n",
    "\n",
    "#Accesing the attributes of the object\n",
    "print(\"First Employee's name is\", junior.name, \"and he is\", junior.age, \"years old\", \"and he earns\", junior.salary, \"per month\")\n",
    "print(\"Second Employee's name is\", foam.name, \"and she is\", foam.age, \"years old\", \"and she earns\", foam.salary, \"per month\")\n"
   ]
  },
  {
   "cell_type": "code",
   "execution_count": 2,
   "metadata": {},
   "outputs": [
    {
     "name": "stdout",
     "output_type": "stream",
     "text": [
      "First Employee's name is junior and he is 29 years old and he earns 20000 per month\n",
      "First Employee's name is foam and he is 27 years old and he earns 30000 per month\n",
      "First Employee's name is kai and he is 14 years old and he earns 0 per month\n"
     ]
    }
   ],
   "source": [
    "# Loop for creating multiple objects by taking user input, and displaying the attributes of the objects\n",
    "\n",
    "class Employee:\n",
    "        #class attribute\n",
    "        def __init__(self, name, age, salary):\n",
    "            self.name = name\n",
    "            self.age = age\n",
    "            self.salary = salary\n",
    "            \n",
    "        def display(self):\n",
    "            print(\"First Employee's name is\", self.name, \"and he is\", self.age, \"years old\", \"and he earns\", self.salary, \"per month\")\n",
    "            \n",
    "# Object instantiation\n",
    "employees_n = int(input(\"Enter the number of employees: \"))\n",
    "for i in range(employees_n): # Loop for creating multiple objects by taking the user input(n = number of employees) and then displaying the attributes of the objects and printing them\n",
    "    name = input(f\"Enter the name of the employee {i}: \")\n",
    "    age = int(input(f\"Enter the age of the employee {i}: \"))\n",
    "    salary = int(input(f\"Enter the salary of the employee {i}: \"))\n",
    "    emp = Employee(name, age, salary)\n",
    "    emp.display()"
   ]
  },
  {
   "cell_type": "code",
   "execution_count": null,
   "metadata": {},
   "outputs": [],
   "source": []
  }
 ],
 "metadata": {
  "kernelspec": {
   "display_name": "Python 3",
   "language": "python",
   "name": "python3"
  },
  "language_info": {
   "codemirror_mode": {
    "name": "ipython",
    "version": 3
   },
   "file_extension": ".py",
   "mimetype": "text/x-python",
   "name": "python",
   "nbconvert_exporter": "python",
   "pygments_lexer": "ipython3",
   "version": "3.12.2"
  }
 },
 "nbformat": 4,
 "nbformat_minor": 2
}
