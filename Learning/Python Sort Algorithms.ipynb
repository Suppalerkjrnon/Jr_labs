{
 "cells": [
  {
   "cell_type": "code",
   "execution_count": 1,
   "metadata": {},
   "outputs": [],
   "source": [
    "import numpy as np"
   ]
  },
  {
   "cell_type": "markdown",
   "metadata": {},
   "source": [
    "# Description\n",
    "\n",
    "\n",
    "<p>ใน Python เราได้การ Sort มาฟรีๆจากการใช้ Method .sort และ ใน Argument จะเป็นการใส่ว่าเราต้องการอะไร เช่น</p>\n",
    "\n",
    "<p> my_list =  ['2', '6', '5'] </p>\n",
    "<p>    my_list.sort() # Default ของกา่ร Sort จะเป็นการเรียงน้อยไปหามากอยู่แล้วหากต้องการให้เรียงมากไปหาน้อย ให้เพิ่ม reverse=True ไปใน Argument เช่น </p> \n",
    "\n",
    "<p> my_list.sort(reverse=True)</p>"
   ]
  },
  {
   "cell_type": "markdown",
   "metadata": {},
   "source": [
    "## Bubble sort"
   ]
  },
  {
   "cell_type": "code",
   "execution_count": 17,
   "metadata": {},
   "outputs": [],
   "source": [
    "def bubble_sort(list): # bubble sort คือ การเรียงลำดับข้อมูลโดยการสลับข้อมูลที่อยู่ใกล้กันระหว่าง น้อย กับ มาก หรือ มาก กับ น้อย\n",
    "    n = len(list)\n",
    "    # Loop through all elements in the list\n",
    "    for element in range (n):\n",
    "        # Create a flag that will allow the function to\n",
    "        # terminate early if there is nothing left to sort\n",
    "        already_sorted = True\n",
    "        for index in range(n - element -1):\n",
    "            if list[index] > list[index + 1]: # This can be adjust to sort in descending order by changing the > to <\n",
    "                # If the item you are looking at is greater than its\n",
    "                # adjacent value ตัวที่อยู่ติดกัน, then swap them\n",
    "                list[index], list[index +1] = list[index + 1], list[index]\n",
    "                # Since you had to swap two elements,\n",
    "                # set the flag to False so the function will have to repeat the process\n",
    "                already_sorted = False\n",
    "                \n",
    "        if already_sorted:\n",
    "            break\n",
    "        \n",
    "    return list"
   ]
  },
  {
   "cell_type": "code",
   "execution_count": 36,
   "metadata": {},
   "outputs": [],
   "source": [
    "#ใช้ numpy สร้าง list ข้อมูลที่มีค่าเริ่มต้น 10 ตัว ที่สุ่มมาจาก 1-100\n",
    "list = np.random.randint(1, 100, 10)"
   ]
  },
  {
   "cell_type": "code",
   "execution_count": 37,
   "metadata": {},
   "outputs": [
    {
     "name": "stdout",
     "output_type": "stream",
     "text": [
      "Original list:  [23 13 38 14 75 30 94 72 18 52]\n"
     ]
    }
   ],
   "source": [
    "print(f\"Original list: \", list)"
   ]
  },
  {
   "cell_type": "code",
   "execution_count": 38,
   "metadata": {},
   "outputs": [
    {
     "name": "stdout",
     "output_type": "stream",
     "text": [
      "Sorted list:  [13 14 18 23 30 38 52 72 75 94]\n"
     ]
    }
   ],
   "source": [
    "sorted_list = bubble_sort(list)\n",
    "print(f\"Sorted list: \", sorted_list)"
   ]
  },
  {
   "cell_type": "markdown",
   "metadata": {},
   "source": [
    "## Insertion Sort"
   ]
  },
  {
   "cell_type": "code",
   "execution_count": 43,
   "metadata": {},
   "outputs": [],
   "source": [
    "def insertion_sort(list):\n",
    "    # Loop from second element of the list until the last element\n",
    "    for element in range(1, len(list)):\n",
    "        key_item = list[element] # key item คือ ตัวที่จะเอามาเปรียบเทียบกับตัวอื่นๆใน list เช่น ตัวที่เราจะเอามาเปรียบเทียบกับตัวที่อยู่ใน list คือ 5 และ 5 จะเปรียบเทียบกับ 4 ถ้า 5 มากกว่า 4 ก็จะสลับตำแหน่งกัน\n",
    "        \n",
    "        # Using key_item to store the value currently being compared\n",
    "        index = element - 1\n",
    "        \n",
    "        # Run through the list of items(from the element to the beginning of the list)\n",
    "        while index >= 0 and list[index] > key_item: # This can be adjust to sort in descending order by changing the > to <\n",
    "            # If the value of the key_item is less than the current item in the list, swap them\n",
    "            list[index + 1] = list[index]\n",
    "            #-= คือการลดค่าของตัวแปร หรือ การ Move backward this case move index backward by 1\n",
    "            index -= 1 \n",
    "            \n",
    "            # When finish shifting items, place the key_iten in the correct location\n",
    "            list[index + 1] = key_item\n",
    "            \n",
    "    return list"
   ]
  },
  {
   "cell_type": "code",
   "execution_count": 47,
   "metadata": {},
   "outputs": [],
   "source": [
    "list = np.random.randint(1, 100, 10)"
   ]
  },
  {
   "cell_type": "code",
   "execution_count": 45,
   "metadata": {},
   "outputs": [
    {
     "name": "stdout",
     "output_type": "stream",
     "text": [
      "Original list:  [53 19 10 35 45 16 58 66 77 85]\n"
     ]
    }
   ],
   "source": [
    "print(f\"Original list: \", list)"
   ]
  },
  {
   "cell_type": "code",
   "execution_count": 46,
   "metadata": {},
   "outputs": [
    {
     "name": "stdout",
     "output_type": "stream",
     "text": [
      "Sorted list:  [13 14 18 23 30 38 52 72 75 94]\n"
     ]
    }
   ],
   "source": [
    "sored_list = insertion_sort(list)\n",
    "print(f\"Sorted list: \", sorted_list)"
   ]
  },
  {
   "cell_type": "code",
   "execution_count": null,
   "metadata": {},
   "outputs": [],
   "source": []
  },
  {
   "cell_type": "code",
   "execution_count": null,
   "metadata": {},
   "outputs": [],
   "source": []
  },
  {
   "cell_type": "code",
   "execution_count": null,
   "metadata": {},
   "outputs": [],
   "source": []
  },
  {
   "cell_type": "code",
   "execution_count": null,
   "metadata": {},
   "outputs": [],
   "source": []
  },
  {
   "cell_type": "code",
   "execution_count": null,
   "metadata": {},
   "outputs": [],
   "source": []
  }
 ],
 "metadata": {
  "kernelspec": {
   "display_name": "Python 3",
   "language": "python",
   "name": "python3"
  },
  "language_info": {
   "codemirror_mode": {
    "name": "ipython",
    "version": 3
   },
   "file_extension": ".py",
   "mimetype": "text/x-python",
   "name": "python",
   "nbconvert_exporter": "python",
   "pygments_lexer": "ipython3",
   "version": "3.12.2"
  }
 },
 "nbformat": 4,
 "nbformat_minor": 2
}
