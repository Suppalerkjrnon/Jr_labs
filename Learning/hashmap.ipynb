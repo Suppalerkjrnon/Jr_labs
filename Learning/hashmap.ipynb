{
 "cells": [
  {
   "cell_type": "markdown",
   "metadata": {},
   "source": [
    "# Description\n",
    "\n",
    "\n",
    "<p> Hashmap are dictionary in python and when it's come to Python it's mean there are a default library that can help to solve the problem faster than other programming language, most type of data are already have libraries to work with</p>"
   ]
  },
  {
   "cell_type": "code",
   "execution_count": 2,
   "metadata": {},
   "outputs": [
    {
     "name": "stdout",
     "output_type": "stream",
     "text": [
      "{'Canada': ['Calgary', 'Vancouver', 'Toronto']}\n"
     ]
    }
   ],
   "source": [
    "#Create a Hashmap: Adding the data, this is not using the default dict of python and hard coding\n",
    "\n",
    "city_map = dict()\n",
    "\n",
    "cities = [\"Calgary\", \"Vancouver\", \"Toronto\"]\n",
    "city_map[\"Canada\"] = []\n",
    "city_map[\"Canada\"] += cities #+= is assign the value on the rightside\n",
    "\n",
    "print(city_map) "
   ]
  },
  {
   "cell_type": "code",
   "execution_count": 3,
   "metadata": {},
   "outputs": [
    {
     "name": "stdout",
     "output_type": "stream",
     "text": [
      "defaultdict(<class 'list'>, {})\n"
     ]
    }
   ],
   "source": [
    "#Create a Hashmap: Adding the data, but using the Python Default dict\n",
    "\n",
    "\n",
    "from collections import defaultdict\n",
    "\n",
    "city_map = defaultdict(list) # take the array in the argument\n",
    "\n",
    "print(city_map)"
   ]
  },
  {
   "cell_type": "code",
   "execution_count": 5,
   "metadata": {},
   "outputs": [
    {
     "name": "stdout",
     "output_type": "stream",
     "text": [
      "defaultdict(<class 'list'>, {'Canada': ['Calgary', 'Vancouver', 'Toronto', 'Calgary', 'Vancouver', 'Toronto']})\n"
     ]
    }
   ],
   "source": [
    "cities = [\"Calgary\", \"Vancouver\", \"Toronto\"]\n",
    "\n",
    "city_map[\"Canada\"] += cities \n",
    "\n",
    "print(city_map)"
   ]
  },
  {
   "cell_type": "markdown",
   "metadata": {},
   "source": [
    "## Hashmap: Retrieving Data\n",
    "\n",
    "<p> To access or retrieving the data in the Hashmap  </p>\n",
    "<br></br>\n",
    "\n",
    "<p><b> Consist of 3 methods</b></p>\n",
    "\n",
    "<p> <b> hashmap.keys(): This method returns a view of all the keys in the hashmap.</b></p> \n",
    "\n",
    "<p><b> hashmap.values(): This method returns a view of all the values in the hashmap.</b></p> \n",
    "\n",
    "<p> <b>hashmap.items(): This method returns a view of all the key-value pairs (items) in the hashmap., return each item as a tuple (key,value)</b></p> "
   ]
  },
  {
   "cell_type": "code",
   "execution_count": 8,
   "metadata": {},
   "outputs": [],
   "source": [
    "#Adding more key in to the cities map\n",
    "\n",
    "cities1 = [\"New York City\", \"Austin\", \"Seattle\"]\n",
    "cities2 = [\"London\", \"Manchester\"]\n",
    "\n",
    "city_map[\"USA\"] += cities1\n",
    "city_map[\"Englang\"] += cities2"
   ]
  },
  {
   "cell_type": "code",
   "execution_count": 11,
   "metadata": {},
   "outputs": [
    {
     "name": "stdout",
     "output_type": "stream",
     "text": [
      "dict_values([['Calgary', 'Vancouver', 'Toronto', 'Calgary', 'Vancouver', 'Toronto'], ['New York City', 'Austin', 'Seattle'], ['London', 'Manchester']])\n"
     ]
    }
   ],
   "source": [
    "#Accessing the value of the city_map by creating a list variable and use hashmap.values() and print it\n",
    "city_list = city_map.values()\n",
    "print(city_list)"
   ]
  },
  {
   "cell_type": "markdown",
   "metadata": {},
   "source": [
    "## Leet code interview\n",
    "\n",
    "\n",
    "Given the array of strings strs, group <b> the anagrams </b> together. You can return the answer in <b> any order.</b>\n",
    "\n",
    "\n",
    "\n",
    "An <b>Anagram</b> is a word or phrase formed by rearranging the letters of a different word or pharse, typically using all the orginal letters exactly once.\n",
    "\n",
    "<br></br>\n",
    "<b>Example:</b>\n",
    "\n",
    "<b>input:</b> strs = [\"eat\", \"tea\", \"tan\", \"ate\", \"nat\", \"bat\"] # List of str\n",
    "\n",
    "<b>Output:</b> [[\"bat\"], [\"nat\", \"tan\"], [\"ate\", \"eat\", \"tea\"]]"
   ]
  },
  {
   "cell_type": "code",
   "execution_count": 14,
   "metadata": {},
   "outputs": [],
   "source": [
    "from collections import defaultdict\n",
    "from typing import List  # Import List from typing module\n",
    "\n",
    "class Solution:\n",
    "    def groupAnagrams(self, strs: List[str]) -> List[List[str]]: # Sending the list of strs and return the list of list of strings\n",
    "        anagram_map = defaultdict(list) #initialize the hashmap, using the default dict, creating a list of values\n",
    "        result = [] # Create a list to store the result\n",
    "        \n",
    "        # Go through each string in the list\n",
    "        for string in strs:\n",
    "            # Sort the string to find its anagram\n",
    "            sorted_str = tuple(sorted(string)) # Sorting the string and converting it to tuple, it's will be (key,value) in the hashmap\n",
    "            # Adding as a key and value in the hashmap\n",
    "            anagram_map[sorted_str].append(string) #append the string to the hashmap\n",
    "            \n",
    "        for value in anagram_map.values(): # Go through the values of the hashmap\n",
    "            result.append(value)\n",
    "            \n",
    "        return result"
   ]
  },
  {
   "cell_type": "code",
   "execution_count": 15,
   "metadata": {},
   "outputs": [
    {
     "name": "stdout",
     "output_type": "stream",
     "text": [
      "[['eat', 'tea', 'ate'], ['tan', 'nat'], ['bat']]\n"
     ]
    }
   ],
   "source": [
    "#My input\n",
    "\n",
    "strs = [\"eat\", \"tea\", \"tan\", \"ate\", \"nat\", \"bat\"]\n",
    "sol = Solution()\n",
    "print(sol.groupAnagrams(strs))"
   ]
  },
  {
   "cell_type": "code",
   "execution_count": null,
   "metadata": {},
   "outputs": [],
   "source": []
  }
 ],
 "metadata": {
  "kernelspec": {
   "display_name": "data",
   "language": "python",
   "name": "python3"
  },
  "language_info": {
   "codemirror_mode": {
    "name": "ipython",
    "version": 3
   },
   "file_extension": ".py",
   "mimetype": "text/x-python",
   "name": "python",
   "nbconvert_exporter": "python",
   "pygments_lexer": "ipython3",
   "version": "3.11.4"
  }
 },
 "nbformat": 4,
 "nbformat_minor": 2
}
