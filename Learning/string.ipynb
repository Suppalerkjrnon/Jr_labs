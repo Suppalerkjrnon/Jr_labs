{
 "cells": [
  {
   "cell_type": "markdown",
   "metadata": {},
   "source": [
    "# Description \n",
    "\n",
    "\n",
    "\"\"\"\n",
    "\n",
    "\n",
    "This will be all about strings and how to manipulate them.\n",
    "\n",
    "\n",
    "\"\"\""
   ]
  },
  {
   "cell_type": "code",
   "execution_count": 3,
   "metadata": {},
   "outputs": [
    {
     "name": "stdout",
     "output_type": "stream",
     "text": [
      "['b', 'a', 'n', 'a', 'n', 'a']\n"
     ]
    }
   ],
   "source": [
    "#Given the string \"banana\" which is an array of str like this\n",
    "\n",
    "str = 'banana' #string \n",
    "str_list = list(str) #convert string to list, each element is a character\n",
    "\n",
    "print(str_list) #print the list"
   ]
  },
  {
   "cell_type": "code",
   "execution_count": 6,
   "metadata": {},
   "outputs": [
    {
     "name": "stdout",
     "output_type": "stream",
     "text": [
      "b\n",
      "b\n"
     ]
    }
   ],
   "source": [
    "#To accesing the letter of str itself is the same as using the index of the list\n",
    "\n",
    "print(str[0]) # Accessing rthe first letter of the string\n",
    "print(str_list[0]) # Accessing the first letter of the list"
   ]
  },
  {
   "cell_type": "markdown",
   "metadata": {},
   "source": [
    "## Built-in functions for str in python\n"
   ]
  },
  {
   "cell_type": "code",
   "execution_count": 7,
   "metadata": {},
   "outputs": [
    {
     "name": "stdout",
     "output_type": "stream",
     "text": [
      "BANANA\n"
     ]
    }
   ],
   "source": [
    "#If we want to make every str to be Capital letter, in case we don't have built in library to do that, we can use the following code\n",
    "\n",
    "old_str = 'banana'\n",
    "new_str = ''\n",
    "hash_map = {\n",
    "    \n",
    "    'b': 'B',\n",
    "    'a': 'A',\n",
    "    'n': 'N',\n",
    "    'a': 'A',\n",
    "    'n': 'N',\n",
    "    'a': 'A'\n",
    "    \n",
    "}\n",
    "\n",
    "for str in old_str:\n",
    "    new_str += hash_map[str]\n",
    "    \n",
    "print(new_str)"
   ]
  },
  {
   "cell_type": "code",
   "execution_count": 8,
   "metadata": {},
   "outputs": [
    {
     "name": "stdout",
     "output_type": "stream",
     "text": [
      "BANANA\n"
     ]
    }
   ],
   "source": [
    "# In Python we have a built in function to do that, which is the upper() function\n",
    "\n",
    "old_str = 'banana'\n",
    "new_str = old_str.upper()\n",
    "print(new_str)"
   ]
  },
  {
   "cell_type": "markdown",
   "metadata": {},
   "source": [
    "# String methods\n",
    "\n",
    "<p>.upper() #Converts the string to uppercase </p>\n",
    "<p> .lower() #Converts the string to lowercase </p>\n",
    "<p> .capitalize() #Converts the first character to uppercase </p>\n"
   ]
  },
  {
   "cell_type": "code",
   "execution_count": 9,
   "metadata": {},
   "outputs": [
    {
     "name": "stdout",
     "output_type": "stream",
     "text": [
      "banana\n",
      "BANANA\n",
      "Banana\n"
     ]
    }
   ],
   "source": [
    "str = 'banana'\n",
    "\n",
    "lower_str = str.lower()\n",
    "print(lower_str)\n",
    "\n",
    "upper_str = str.upper()\n",
    "print(upper_str)\n",
    "\n",
    "capital_str = str.capitalize()\n",
    "print(capital_str)"
   ]
  },
  {
   "cell_type": "markdown",
   "metadata": {},
   "source": [
    "## String methods: Character"
   ]
  },
  {
   "cell_type": "code",
   "execution_count": 11,
   "metadata": {},
   "outputs": [
    {
     "name": "stdout",
     "output_type": "stream",
     "text": [
      "True\n"
     ]
    }
   ],
   "source": [
    "#Check if all str characters is in upper case\n",
    "\n",
    "print(upper_str.isupper()) # Using upper_str variable and feed into the isupper() function to check if all characters are in upper case"
   ]
  },
  {
   "cell_type": "code",
   "execution_count": 12,
   "metadata": {},
   "outputs": [
    {
     "name": "stdout",
     "output_type": "stream",
     "text": [
      "True\n"
     ]
    }
   ],
   "source": [
    "print(lower_str.islower()) # Using lower_str variable and feed into the islower() function to check if all characters are in lower case"
   ]
  },
  {
   "cell_type": "code",
   "execution_count": 1,
   "metadata": {},
   "outputs": [
    {
     "name": "stdout",
     "output_type": "stream",
     "text": [
      "True\n"
     ]
    }
   ],
   "source": [
    "# isnumeric is a function to check if the string is a number or not\n",
    "\n",
    "str = '12345'\n",
    "print(str.isnumeric())"
   ]
  },
  {
   "cell_type": "code",
   "execution_count": 2,
   "metadata": {},
   "outputs": [
    {
     "name": "stdout",
     "output_type": "stream",
     "text": [
      "False\n"
     ]
    }
   ],
   "source": [
    "str = '12345a'\n",
    "print(str.isnumeric())"
   ]
  },
  {
   "cell_type": "code",
   "execution_count": 4,
   "metadata": {},
   "outputs": [
    {
     "name": "stdout",
     "output_type": "stream",
     "text": [
      "True\n"
     ]
    }
   ],
   "source": [
    "# isalnum is a function to check if the string is a number or a letter\n",
    "\n",
    "str = '12345s'\n",
    "\n",
    "print(str.isalnum())"
   ]
  },
  {
   "cell_type": "markdown",
   "metadata": {},
   "source": [
    "### String method: Other methods\n",
    "\n",
    "\n"
   ]
  },
  {
   "cell_type": "code",
   "execution_count": 11,
   "metadata": {},
   "outputs": [
    {
     "name": "stdout",
     "output_type": "stream",
     "text": [
      "1\n"
     ]
    }
   ],
   "source": [
    "str = 'potato'\n",
    "\n",
    "print(str.find('o')) # Find the letter o in the string, and return the number of the index"
   ]
  },
  {
   "cell_type": "code",
   "execution_count": 12,
   "metadata": {},
   "outputs": [
    {
     "name": "stdout",
     "output_type": "stream",
     "text": [
      "5\n"
     ]
    }
   ],
   "source": [
    "print(str.rfind('o')) # Find the letter o in the string, and return the number of the index from the right"
   ]
  },
  {
   "cell_type": "markdown",
   "metadata": {},
   "source": [
    "## String Method: Slicing"
   ]
  },
  {
   "cell_type": "code",
   "execution_count": 13,
   "metadata": {},
   "outputs": [
    {
     "name": "stdout",
     "output_type": "stream",
     "text": [
      "nan\n"
     ]
    }
   ],
   "source": [
    "str = 'banana'\n",
    "#Get only nan\n",
    "print(str[2:5])"
   ]
  },
  {
   "cell_type": "code",
   "execution_count": 16,
   "metadata": {},
   "outputs": [
    {
     "name": "stdout",
     "output_type": "stream",
     "text": [
      "aaa\n"
     ]
    }
   ],
   "source": [
    "#Get only aaa\n",
    "\n",
    "#[1:6:2]\n",
    "\n",
    "#start from index 1\n",
    "#end at index 6\n",
    "#step 2 \n",
    "\n",
    "#it's goes 1 -> 3 -> 5\n",
    "#Output is aaa\n",
    "print(str[1:6:2])\n"
   ]
  },
  {
   "cell_type": "markdown",
   "metadata": {},
   "source": [
    "## String methods: Formatting"
   ]
  },
  {
   "cell_type": "code",
   "execution_count": 17,
   "metadata": {},
   "outputs": [
    {
     "name": "stdout",
     "output_type": "stream",
     "text": [
      "banana\n"
     ]
    }
   ],
   "source": [
    "#Using strip() function to remove the white space in the string, left and right\n",
    "str = '    banana    '\n",
    "print(str.strip())"
   ]
  },
  {
   "cell_type": "code",
   "execution_count": 18,
   "metadata": {},
   "outputs": [
    {
     "name": "stdout",
     "output_type": "stream",
     "text": [
      "bAnAnA\n"
     ]
    }
   ],
   "source": [
    "#.replace() function to replace the string with (old, new)\n",
    "str = 'banana'\n",
    "print(str.replace('a', 'A')) #Replace all the letter a with A"
   ]
  },
  {
   "cell_type": "code",
   "execution_count": 19,
   "metadata": {},
   "outputs": [
    {
     "name": "stdout",
     "output_type": "stream",
     "text": [
      "I Love Apple\n"
     ]
    }
   ],
   "source": [
    "str = 'I Love Banana'\n",
    "print(str.replace('Banana', 'Apple')) #Replace the word Banana with Apple"
   ]
  },
  {
   "cell_type": "code",
   "execution_count": 20,
   "metadata": {},
   "outputs": [
    {
     "name": "stdout",
     "output_type": "stream",
     "text": [
      "['My', 'name', 'is', 'Jeff']\n"
     ]
    }
   ],
   "source": [
    "#Split\n",
    "\n",
    "str = 'My name is Jeff'\n",
    "print(str.split(' ')) #Split the string by space"
   ]
  },
  {
   "cell_type": "code",
   "execution_count": 21,
   "metadata": {},
   "outputs": [
    {
     "name": "stdout",
     "output_type": "stream",
     "text": [
      "['Hello', 'World!']\n"
     ]
    }
   ],
   "source": [
    "str = 'Hello World!'\n",
    "print(str.split(' '))"
   ]
  },
  {
   "cell_type": "code",
   "execution_count": 22,
   "metadata": {},
   "outputs": [
    {
     "name": "stdout",
     "output_type": "stream",
     "text": [
      "M y   n a m e   i s   J e f f\n"
     ]
    }
   ],
   "source": [
    "#Join\n",
    "\n",
    "str = 'My name is Jeff'\n",
    "print(' '.join(str))"
   ]
  },
  {
   "cell_type": "code",
   "execution_count": 23,
   "metadata": {},
   "outputs": [
    {
     "name": "stdout",
     "output_type": "stream",
     "text": [
      "My name is Jeff and I am 21 years old\n"
     ]
    }
   ],
   "source": [
    "#Format string\n",
    "\n",
    "name = 'Jeff'\n",
    "age = 21\n",
    "\n",
    "print('My name is {} and I am {} years old'.format(name, age))"
   ]
  },
  {
   "cell_type": "markdown",
   "metadata": {},
   "source": [
    "### Leet code problem ###"
   ]
  },
  {
   "cell_type": "code",
   "execution_count": 24,
   "metadata": {},
   "outputs": [],
   "source": [
    "class Solution:\n",
    "    def isPalindrome(self, s: str) -> bool:\n",
    "        s = ''.join(e for e in s if e.isalnum()).lower()\n",
    "        return s == s[::-1] #Check if the string is a palindrome or not by comparing the string with the reverse of the string\n",
    "    \n",
    "    \n",
    "s = Solution()"
   ]
  }
 ],
 "metadata": {
  "kernelspec": {
   "display_name": "data",
   "language": "python",
   "name": "python3"
  },
  "language_info": {
   "codemirror_mode": {
    "name": "ipython",
    "version": 3
   },
   "file_extension": ".py",
   "mimetype": "text/x-python",
   "name": "python",
   "nbconvert_exporter": "python",
   "pygments_lexer": "ipython3",
   "version": "3.11.4"
  }
 },
 "nbformat": 4,
 "nbformat_minor": 2
}
