{
 "cells": [
  {
   "cell_type": "code",
   "execution_count": 52,
   "metadata": {},
   "outputs": [],
   "source": [
    "import random"
   ]
  },
  {
   "cell_type": "code",
   "execution_count": 87,
   "metadata": {},
   "outputs": [],
   "source": [
    "class Hello_world:\n",
    "    def suffer(self):\n",
    "        self.char3 = 'L'\n",
    "        self.char5 = 'O'\n",
    "        self.char10 = 'D'\n",
    "        self.char7 = 'O'\n",
    "        self.char2 = 'E'\n",
    "        self.char1 = 'H'\n",
    "        self.char6 = 'W'\n",
    "        self.char8 = 'R'\n",
    "        self.char9 = 'L'\n",
    "        self.char4 = 'L'\n",
    "        self.between = ' '\n",
    "        self.exclation = '!'\n",
    "\n",
    "    def suffer2(self):\n",
    "        self.array = list()\n",
    "        for i in range(1, 11): #range doesn't include the last number\n",
    "            self.array.append('char' + str(i)) #Append that string number to the array\n",
    "        \n",
    "        return self.array\n",
    "    \n",
    "    def suffer3(self):\n",
    "        for self.index, self.item in enumerate(self.array): # Please random the index do not auto sort!\n",
    "            self.array[self.index] = getattr(self, self.item)\n",
    "    \n",
    "        return self.array\n",
    "    \n",
    "    def suffer4(self):\n",
    "        #Reverse the array to not sort the item in the array\n",
    "        self.array.reverse()\n",
    "        \n",
    "        return self.array\n",
    "    \n",
    "    def suffer5(self):\n",
    "        self.n = len(self.array) # Get N value from number of elements in the array\n",
    "        for self.index in range(self.n):\n",
    "            self.already_sorted = True\n",
    "            for self.index in range(self.n - self.index -1):\n",
    "                if self.array[self.index] > self.array[self.index + 1]: #If the current element is greater than the next element, swap them\n",
    "                    self.array[self.index], self.array[self.index + 1] = self.array[self.index + 1], self.array[self.index]\n",
    "                    self.already_sorted = False\n",
    "            if self.already_sorted:\n",
    "                break\n",
    "        \n",
    "        return self.array\n"
   ]
  },
  {
   "cell_type": "code",
   "execution_count": 90,
   "metadata": {},
   "outputs": [],
   "source": [
    "Hello = Hello_world()\n",
    "Hello.suffer()\n",
    "array = Hello.suffer2()\n",
    "array = Hello.suffer3()\n",
    "array = Hello.suffer4()\n",
    "array = Hello.suffer5()"
   ]
  },
  {
   "cell_type": "code",
   "execution_count": 91,
   "metadata": {},
   "outputs": [
    {
     "name": "stdout",
     "output_type": "stream",
     "text": [
      "['D', 'E', 'H', 'L', 'L', 'L', 'O', 'O', 'R', 'W']\n"
     ]
    }
   ],
   "source": [
    "print(array)"
   ]
  },
  {
   "cell_type": "code",
   "execution_count": null,
   "metadata": {},
   "outputs": [],
   "source": []
  }
 ],
 "metadata": {
  "kernelspec": {
   "display_name": "data",
   "language": "python",
   "name": "python3"
  },
  "language_info": {
   "codemirror_mode": {
    "name": "ipython",
    "version": 3
   },
   "file_extension": ".py",
   "mimetype": "text/x-python",
   "name": "python",
   "nbconvert_exporter": "python",
   "pygments_lexer": "ipython3",
   "version": "3.11.4"
  }
 },
 "nbformat": 4,
 "nbformat_minor": 2
}
