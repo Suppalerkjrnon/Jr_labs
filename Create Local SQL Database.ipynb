{
 "cells": [
  {
   "cell_type": "markdown",
   "metadata": {},
   "source": [
    "# Import"
   ]
  },
  {
   "cell_type": "code",
   "execution_count": 2,
   "metadata": {},
   "outputs": [],
   "source": [
    "import pandas as pd\n",
    "import sqlite3"
   ]
  },
  {
   "cell_type": "markdown",
   "metadata": {},
   "source": [
    "## Description\n",
    "\n",
    "\n",
    "This file is a implementation of saving a file as SQL and do some SQL function like query, groupby, ETC\n",
    "\n",
    "Note that, SQLite accept these data type, we may have to take a peek at our data before save to SQLite database:\n",
    "\n",
    "<code> Int, float, str, bytes, None ==> Python </code>\n",
    "\n",
    "<code> INTEGER, REAL, TEXT, BLOB, NULL ==> SQLite type </code>\n",
    "\n"
   ]
  },
  {
   "cell_type": "code",
   "execution_count": 4,
   "metadata": {},
   "outputs": [
    {
     "name": "stdout",
     "output_type": "stream",
     "text": [
      "There are 905500 rows in the CSV file.\n",
      "This is data columns: Index(['title', 'publisher', 'publishTimeUnix', 'categoryName', 'viewCount',\n",
      "       'cleaned_title', 'publish_year', 'publish_month', 'publish_day',\n",
      "       'publish_day_of_week', 'publish_date', 'publish_hour', 'month_year'],\n",
      "      dtype='object')\n"
     ]
    }
   ],
   "source": [
    "data = pd.read_csv('F:\\\\For work\\\\News data_cleaned.csv')\n",
    "\n",
    "print(\"There are\", len(data), \"rows in the CSV file.\")\n",
    "print(\"This is data columns:\", data.columns)"
   ]
  },
  {
   "cell_type": "markdown",
   "metadata": {},
   "source": [
    "# Data Preparation for SQL Database\n",
    "\n",
    "<code> I will divided the data into text and non-text data </code>"
   ]
  },
  {
   "cell_type": "code",
   "execution_count": 8,
   "metadata": {},
   "outputs": [
    {
     "name": "stdout",
     "output_type": "stream",
     "text": [
      "Numeric columns: Index(['viewCount', 'publish_year', 'publish_month', 'publish_day',\n",
      "       'publish_hour'],\n",
      "      dtype='object')\n"
     ]
    }
   ],
   "source": [
    "numeric_columns = data.select_dtypes(include=['int64', 'float64']).columns\n",
    "print(\"Numeric columns:\", numeric_columns)"
   ]
  },
  {
   "cell_type": "code",
   "execution_count": 10,
   "metadata": {},
   "outputs": [
    {
     "name": "stdout",
     "output_type": "stream",
     "text": [
      "Text columns: Index(['title', 'publisher', 'publishTimeUnix', 'categoryName',\n",
      "       'cleaned_title', 'publish_day_of_week', 'publish_date', 'month_year'],\n",
      "      dtype='object')\n"
     ]
    }
   ],
   "source": [
    "text_columns = data.select_dtypes(include=['object']).columns\n",
    "print(\"Text columns:\", text_columns)"
   ]
  },
  {
   "cell_type": "code",
   "execution_count": 11,
   "metadata": {},
   "outputs": [
    {
     "data": {
      "text/plain": [
       "Index(['title', 'publisher', 'publishTimeUnix', 'categoryName', 'viewCount',\n",
       "       'cleaned_title', 'publish_year', 'publish_month', 'publish_day',\n",
       "       'publish_day_of_week', 'publish_date', 'publish_hour', 'month_year'],\n",
       "      dtype='object')"
      ]
     },
     "execution_count": 11,
     "metadata": {},
     "output_type": "execute_result"
    }
   ],
   "source": [
    "data.columns"
   ]
  },
  {
   "cell_type": "code",
   "execution_count": 12,
   "metadata": {},
   "outputs": [
    {
     "data": {
      "text/html": [
       "<div>\n",
       "<style scoped>\n",
       "    .dataframe tbody tr th:only-of-type {\n",
       "        vertical-align: middle;\n",
       "    }\n",
       "\n",
       "    .dataframe tbody tr th {\n",
       "        vertical-align: top;\n",
       "    }\n",
       "\n",
       "    .dataframe thead th {\n",
       "        text-align: right;\n",
       "    }\n",
       "</style>\n",
       "<table border=\"1\" class=\"dataframe\">\n",
       "  <thead>\n",
       "    <tr style=\"text-align: right;\">\n",
       "      <th></th>\n",
       "      <th>title</th>\n",
       "      <th>publisher</th>\n",
       "      <th>publishTimeUnix</th>\n",
       "      <th>categoryName</th>\n",
       "      <th>viewCount</th>\n",
       "      <th>cleaned_title</th>\n",
       "      <th>publish_year</th>\n",
       "      <th>publish_month</th>\n",
       "      <th>publish_day</th>\n",
       "      <th>publish_day_of_week</th>\n",
       "      <th>publish_date</th>\n",
       "      <th>publish_hour</th>\n",
       "      <th>month_year</th>\n",
       "    </tr>\n",
       "  </thead>\n",
       "  <tbody>\n",
       "    <tr>\n",
       "      <th>0</th>\n",
       "      <td>ขอแสดงความเสียใจ นายศักดิ์ชัย แน่นอุดร พ่อค้าส...</td>\n",
       "      <td>ThaiNews - ไทยนิวส์ออนไลน์</td>\n",
       "      <td>2022-10-17 06:56:17</td>\n",
       "      <td>ทั่วไป</td>\n",
       "      <td>70950</td>\n",
       "      <td>ขอแสดงความเสียใจนายศักดิ์ชัยแน่นอุดรพ่อค้าส้มต...</td>\n",
       "      <td>2022</td>\n",
       "      <td>10</td>\n",
       "      <td>17</td>\n",
       "      <td>Monday</td>\n",
       "      <td>2022-10-17</td>\n",
       "      <td>6</td>\n",
       "      <td>2022-10</td>\n",
       "    </tr>\n",
       "    <tr>\n",
       "      <th>1</th>\n",
       "      <td>เปิดคลิปนาที จอนนี่มือปราบ รวบไอ้ดิว ลูกจ้างร้...</td>\n",
       "      <td>BRIGHTTV.CO.TH</td>\n",
       "      <td>2022-10-17 06:56:17</td>\n",
       "      <td>ทั่วไป</td>\n",
       "      <td>21973</td>\n",
       "      <td>เปิดคลิปนาทีจอนนี่มือปราบรวบไอ้ดิวลูกจ้างร้านเ...</td>\n",
       "      <td>2022</td>\n",
       "      <td>10</td>\n",
       "      <td>17</td>\n",
       "      <td>Monday</td>\n",
       "      <td>2022-10-17</td>\n",
       "      <td>6</td>\n",
       "      <td>2022-10</td>\n",
       "    </tr>\n",
       "    <tr>\n",
       "      <th>2</th>\n",
       "      <td>Pfizer ประสิทธิผลเหลือ 69.7% ในการป้องกันไวรัส...</td>\n",
       "      <td>ฐานเศรษฐกิจ</td>\n",
       "      <td>2022-10-17 06:56:17</td>\n",
       "      <td>ทั่วไป</td>\n",
       "      <td>17266</td>\n",
       "      <td>Pfizerประสิทธิผลเหลือ697ในการป้องกันไวรัสเดลตา...</td>\n",
       "      <td>2022</td>\n",
       "      <td>10</td>\n",
       "      <td>17</td>\n",
       "      <td>Monday</td>\n",
       "      <td>2022-10-17</td>\n",
       "      <td>6</td>\n",
       "      <td>2022-10</td>\n",
       "    </tr>\n",
       "    <tr>\n",
       "      <th>3</th>\n",
       "      <td>เข้าเต็มๆ! เจ๊ฟองเบียร์888 หลังให้เลขเด็ด 35-9...</td>\n",
       "      <td>BRIGHTTV.CO.TH</td>\n",
       "      <td>2022-10-17 06:56:17</td>\n",
       "      <td>ทั่วไป</td>\n",
       "      <td>13954</td>\n",
       "      <td>เข้าเต็มๆเจ๊ฟองเบียร์888หลังให้เลขเด็ด35935คอห...</td>\n",
       "      <td>2022</td>\n",
       "      <td>10</td>\n",
       "      <td>17</td>\n",
       "      <td>Monday</td>\n",
       "      <td>2022-10-17</td>\n",
       "      <td>6</td>\n",
       "      <td>2022-10</td>\n",
       "    </tr>\n",
       "    <tr>\n",
       "      <th>4</th>\n",
       "      <td>เปิดเลข…ครั้งสุดท้าย! แม่น้ำหนึ่ง เมื่อคืนนี้!!</td>\n",
       "      <td>TOJO NEWS</td>\n",
       "      <td>2022-10-17 06:56:17</td>\n",
       "      <td>ทั่วไป</td>\n",
       "      <td>12351</td>\n",
       "      <td>เปิดเลขครั้งสุดท้ายแม่น้ำหนึ่งเมื่อคืนนี้</td>\n",
       "      <td>2022</td>\n",
       "      <td>10</td>\n",
       "      <td>17</td>\n",
       "      <td>Monday</td>\n",
       "      <td>2022-10-17</td>\n",
       "      <td>6</td>\n",
       "      <td>2022-10</td>\n",
       "    </tr>\n",
       "  </tbody>\n",
       "</table>\n",
       "</div>"
      ],
      "text/plain": [
       "                                               title  \\\n",
       "0  ขอแสดงความเสียใจ นายศักดิ์ชัย แน่นอุดร พ่อค้าส...   \n",
       "1  เปิดคลิปนาที จอนนี่มือปราบ รวบไอ้ดิว ลูกจ้างร้...   \n",
       "2  Pfizer ประสิทธิผลเหลือ 69.7% ในการป้องกันไวรัส...   \n",
       "3  เข้าเต็มๆ! เจ๊ฟองเบียร์888 หลังให้เลขเด็ด 35-9...   \n",
       "4    เปิดเลข…ครั้งสุดท้าย! แม่น้ำหนึ่ง เมื่อคืนนี้!!   \n",
       "\n",
       "                    publisher      publishTimeUnix categoryName  viewCount  \\\n",
       "0  ThaiNews - ไทยนิวส์ออนไลน์  2022-10-17 06:56:17       ทั่วไป      70950   \n",
       "1              BRIGHTTV.CO.TH  2022-10-17 06:56:17       ทั่วไป      21973   \n",
       "2                 ฐานเศรษฐกิจ  2022-10-17 06:56:17       ทั่วไป      17266   \n",
       "3              BRIGHTTV.CO.TH  2022-10-17 06:56:17       ทั่วไป      13954   \n",
       "4                   TOJO NEWS  2022-10-17 06:56:17       ทั่วไป      12351   \n",
       "\n",
       "                                       cleaned_title  publish_year  \\\n",
       "0  ขอแสดงความเสียใจนายศักดิ์ชัยแน่นอุดรพ่อค้าส้มต...          2022   \n",
       "1  เปิดคลิปนาทีจอนนี่มือปราบรวบไอ้ดิวลูกจ้างร้านเ...          2022   \n",
       "2  Pfizerประสิทธิผลเหลือ697ในการป้องกันไวรัสเดลตา...          2022   \n",
       "3  เข้าเต็มๆเจ๊ฟองเบียร์888หลังให้เลขเด็ด35935คอห...          2022   \n",
       "4          เปิดเลขครั้งสุดท้ายแม่น้ำหนึ่งเมื่อคืนนี้          2022   \n",
       "\n",
       "   publish_month  publish_day publish_day_of_week publish_date  publish_hour  \\\n",
       "0             10           17              Monday   2022-10-17             6   \n",
       "1             10           17              Monday   2022-10-17             6   \n",
       "2             10           17              Monday   2022-10-17             6   \n",
       "3             10           17              Monday   2022-10-17             6   \n",
       "4             10           17              Monday   2022-10-17             6   \n",
       "\n",
       "  month_year  \n",
       "0    2022-10  \n",
       "1    2022-10  \n",
       "2    2022-10  \n",
       "3    2022-10  \n",
       "4    2022-10  "
      ]
     },
     "execution_count": 12,
     "metadata": {},
     "output_type": "execute_result"
    }
   ],
   "source": [
    "data.head()"
   ]
  },
  {
   "cell_type": "code",
   "execution_count": 13,
   "metadata": {},
   "outputs": [],
   "source": [
    "# A lot data need to be in the form of string because SQL does not support datetime objects, so save them as strings to aviod integer overflow\n",
    "\n",
    "data['title'] = data['title'].astype(str)\n",
    "data['cleaned_title'] = data['cleaned_title'].astype(str)\n",
    "data['publisher'] = data['publisher'].astype(str)\n",
    "data['categoryName'] = data['categoryName'].astype(str)\n",
    "data['viewCount'] = data['viewCount'].astype(int)\n",
    "data['publishTimeUnix'] = data['publishTimeUnix'].astype(str)\n",
    "data['month_year'] = data['month_year'].astype(str)\n",
    "data['publish_date'] = data['publish_date'].astype(str)\n",
    "data['publish_year'] = data['publish_year'].astype(str)\n",
    "data['publish_month'] = data['publish_month'].astype(str)\n",
    "data['publish_day'] = data['publish_day'].astype(str)\n",
    "data['publish_day_of_week'] = data['publish_day_of_week'].astype(str)\n",
    "data['publish_hour'] = data['publish_hour'].astype(str)"
   ]
  },
  {
   "cell_type": "markdown",
   "metadata": {},
   "source": [
    "## Data Base Creation"
   ]
  },
  {
   "cell_type": "code",
   "execution_count": 16,
   "metadata": {},
   "outputs": [
    {
     "data": {
      "text/plain": [
       "905500"
      ]
     },
     "execution_count": 16,
     "metadata": {},
     "output_type": "execute_result"
    }
   ],
   "source": [
    "### Save data to SQLite database\n",
    "\n",
    "db_path = 'F:\\\\For work\\\\SQL-Lite3 project\\\\news.db'\n",
    "\n",
    "conn = sqlite3.connect(db_path)\n",
    "\n",
    "data.to_sql('news', conn, if_exists='replace', index=False)\n",
    "\n",
    "# Parameters = (table_name, connection, if_exists (Check if exist then perform x ), index)"
   ]
  },
  {
   "cell_type": "markdown",
   "metadata": {},
   "source": [
    "## Perform SQL Basic Query"
   ]
  },
  {
   "cell_type": "markdown",
   "metadata": {},
   "source": [
    "### Pull all data from the database"
   ]
  },
  {
   "cell_type": "code",
   "execution_count": null,
   "metadata": {},
   "outputs": [],
   "source": [
    "conn = sqlite3.connect(db_path)\n",
    "\n",
    "query = \"SELECT * FROM news\"\n",
    "\n",
    "data_from_sql = pd.read_sql(query, conn)\n",
    "\n",
    "print(\"There are\", len(data_from_sql), \"rows in the SQL table.\")\n",
    "\n",
    "print(\"This is data columns:\", data_from_sql.columns)\n",
    "\n",
    "data_from_sql.head()\n",
    "\n",
    "# Check if the data is the same as the original data\n",
    "\n",
    "data.equals(data_from_sql)\n",
    "\n",
    "# Close the connection, do not forget to close the connection otherwise it will be overkill the system\n",
    "conn.close() \n",
    "\n"
   ]
  },
  {
   "cell_type": "code",
   "execution_count": null,
   "metadata": {},
   "outputs": [],
   "source": []
  },
  {
   "cell_type": "code",
   "execution_count": null,
   "metadata": {},
   "outputs": [],
   "source": []
  },
  {
   "cell_type": "code",
   "execution_count": null,
   "metadata": {},
   "outputs": [],
   "source": []
  }
 ],
 "metadata": {
  "kernelspec": {
   "display_name": "Python 3",
   "language": "python",
   "name": "python3"
  },
  "language_info": {
   "codemirror_mode": {
    "name": "ipython",
    "version": 3
   },
   "file_extension": ".py",
   "mimetype": "text/x-python",
   "name": "python",
   "nbconvert_exporter": "python",
   "pygments_lexer": "ipython3",
   "version": "3.12.2"
  }
 },
 "nbformat": 4,
 "nbformat_minor": 2
}
