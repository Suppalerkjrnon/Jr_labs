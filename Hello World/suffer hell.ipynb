{
 "cells": [
  {
   "cell_type": "code",
   "execution_count": 1,
   "metadata": {},
   "outputs": [],
   "source": [
    "import random"
   ]
  },
  {
   "cell_type": "code",
   "execution_count": 183,
   "metadata": {},
   "outputs": [],
   "source": [
    "class Hello_world:\n",
    "    def suffer(self):\n",
    "        self.char3 = 'L'\n",
    "        self.char5 = 'O'\n",
    "        self.char10 = 'D'\n",
    "        self.char7 = 'O'\n",
    "        self.char2 = 'E'\n",
    "        self.char1 = 'H'\n",
    "        self.char6 = 'W'\n",
    "        self.char8 = 'R'\n",
    "        self.char9 = 'L'\n",
    "        self.char4 = 'L'\n",
    "        self.between = ' '\n",
    "        self.exclation = '!'\n",
    "\n",
    "    def suffer2(self):\n",
    "        self.array = list()\n",
    "        for i in range(1, 11): #range doesn't include the last number\n",
    "            self.array.append('char' + str(i)) #Append that string number to the array\n",
    "        \n",
    "        return self.array\n",
    "    \n",
    "    def suffer3(self):\n",
    "        #iterate through the array and get the value of the string and turn it into a array again!\n",
    "        for self.index in range(len(self.array)):\n",
    "            self.array[self.index] = getattr(self, self.array[self.index])\n",
    "        \n",
    "        return self.index\n",
    "    \n",
    "    # def suffer4(self):\n",
    "    #     sorted_chars = [getattr(self, f'char{i}') for i in range(1, 11)]\n",
    "        \n",
    "    #     return sorted_chars\n",
    "    \n",
    "\n",
    "    \n",
    "    "
   ]
  },
  {
   "cell_type": "code",
   "execution_count": 186,
   "metadata": {},
   "outputs": [],
   "source": [
    "Hello = Hello_world()\n",
    "Hello.suffer()\n",
    "array = Hello.suffer2()\n",
    "array = Hello.suffer3()\n"
   ]
  },
  {
   "cell_type": "code",
   "execution_count": 187,
   "metadata": {},
   "outputs": [
    {
     "name": "stdout",
     "output_type": "stream",
     "text": [
      "['E', 'O', 'W', 'O', 'H', 'L', 'D', 'L', 'R', 'L']\n"
     ]
    }
   ],
   "source": [
    "print(array)"
   ]
  },
  {
   "cell_type": "code",
   "execution_count": 188,
   "metadata": {},
   "outputs": [
    {
     "ename": "AttributeError",
     "evalue": "'Hello_world' object has no attribute 'E'",
     "output_type": "error",
     "traceback": [
      "\u001b[1;31m---------------------------------------------------------------------------\u001b[0m",
      "\u001b[1;31mAttributeError\u001b[0m                            Traceback (most recent call last)",
      "Cell \u001b[1;32mIn[188], line 1\u001b[0m\n\u001b[1;32m----> 1\u001b[0m index \u001b[38;5;241m=\u001b[39m \u001b[43mHello\u001b[49m\u001b[38;5;241;43m.\u001b[39;49m\u001b[43msuffer4\u001b[49m\u001b[43m(\u001b[49m\u001b[43m)\u001b[49m\n",
      "Cell \u001b[1;32mIn[183], line 41\u001b[0m, in \u001b[0;36mHello_world.suffer4\u001b[1;34m(self)\u001b[0m\n\u001b[0;32m     38\u001b[0m \u001b[38;5;28;01mdef\u001b[39;00m \u001b[38;5;21msuffer4\u001b[39m(\u001b[38;5;28mself\u001b[39m):\n\u001b[0;32m     39\u001b[0m     \u001b[38;5;66;03m#Iterate though the array and mask the index by char1-10, char1 = index0, char2 = index1, etc\u001b[39;00m\n\u001b[0;32m     40\u001b[0m     \u001b[38;5;28;01mfor\u001b[39;00m \u001b[38;5;28mself\u001b[39m\u001b[38;5;241m.\u001b[39mindex \u001b[38;5;129;01min\u001b[39;00m \u001b[38;5;28mrange\u001b[39m(\u001b[38;5;28mlen\u001b[39m(\u001b[38;5;28mself\u001b[39m\u001b[38;5;241m.\u001b[39marray)):\n\u001b[1;32m---> 41\u001b[0m         \u001b[38;5;28mself\u001b[39m\u001b[38;5;241m.\u001b[39marray[\u001b[38;5;28mself\u001b[39m\u001b[38;5;241m.\u001b[39mindex] \u001b[38;5;241m=\u001b[39m \u001b[38;5;28;43mgetattr\u001b[39;49m\u001b[43m(\u001b[49m\u001b[38;5;28;43mself\u001b[39;49m\u001b[43m,\u001b[49m\u001b[43m \u001b[49m\u001b[38;5;28;43mself\u001b[39;49m\u001b[38;5;241;43m.\u001b[39;49m\u001b[43marray\u001b[49m\u001b[43m[\u001b[49m\u001b[38;5;28;43mself\u001b[39;49m\u001b[38;5;241;43m.\u001b[39;49m\u001b[43mindex\u001b[49m\u001b[43m]\u001b[49m\u001b[43m)\u001b[49m\n\u001b[0;32m     43\u001b[0m     \u001b[38;5;28;01mreturn\u001b[39;00m \u001b[38;5;28mself\u001b[39m\u001b[38;5;241m.\u001b[39marray\n",
      "\u001b[1;31mAttributeError\u001b[0m: 'Hello_world' object has no attribute 'E'"
     ]
    }
   ],
   "source": [
    "index = Hello.suffer4()"
   ]
  },
  {
   "cell_type": "code",
   "execution_count": null,
   "metadata": {},
   "outputs": [],
   "source": []
  }
 ],
 "metadata": {
  "kernelspec": {
   "display_name": "data",
   "language": "python",
   "name": "python3"
  },
  "language_info": {
   "codemirror_mode": {
    "name": "ipython",
    "version": 3
   },
   "file_extension": ".py",
   "mimetype": "text/x-python",
   "name": "python",
   "nbconvert_exporter": "python",
   "pygments_lexer": "ipython3",
   "version": "3.12.2"
  }
 },
 "nbformat": 4,
 "nbformat_minor": 2
}
